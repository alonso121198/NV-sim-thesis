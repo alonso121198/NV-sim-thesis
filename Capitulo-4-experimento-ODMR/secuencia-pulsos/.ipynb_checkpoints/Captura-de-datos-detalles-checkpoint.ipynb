{
 "cells": [
  {
   "cell_type": "markdown",
   "id": "54024d5f",
   "metadata": {},
   "source": [
    "# Paquete usados\n",
    "\n",
    "## Paquete FlyCapture2\n",
    "- Es un paquete de paquete proporciona una interfaz para la bibioteca de captura de imagenes FlyCapture2 de Point Grey Research. \n",
    "- Lamentablemente, PyCapture2 es una biblioteca específica de **Point Grey Research (ahora adquirida por FLIR)**, y actualmente no se admite su instalación a través de los canales de distribución de paquetes de Python, como pip o conda.\n",
    "- PyCapture2 se distribuye como un paquete binario cerrado, que se proporciona en forma de archivo comprimido y se instala manualmente. Antes de poder instalar PyCapture2, es necesario obtener la biblioteca desde el sitio web oficial de FLIR y descomprimir el archivo en el sistema.\n",
    "- Es importante tener en cuenta que la **compatibilidad de PyCapture2 puede ser limitada en sistemas operativos modernos**, ya que se desarrolló hace varios años y se centra en sistemas operativos y arquitecturas específicas. En su lugar, se recomienda **utilizar PySpin (también de FLIR) o PyFlyCap2 (de terceros, pero con compatibilidad con FLIR)** para interactuar con cámaras industriales de FLIR.\n",
    "\n",
    "## Paquete visa\n",
    "- Permite controlar dispositivos de medida y testeear equipamiento via GPB, RS232, Ethernet or USB\n",
    "\n",
    "## Paquete sinapi\n",
    "- Paquete para controlar dispositivos de espectroscopía de resonancia magnetica nuclear (NMR) y resonancia magnética electrónica (EMR). Esta biblioteca se utiliza para controlar dispositivos de hardware como generadores de radiofrecuencia y amplificadores de potencia. \n",
    "\n",
    "## Paquete Imageio\n",
    "- El paquete Imageio dedicada a los datos de imágenes. Ofrece una interfaz sencilla para escribir y leer una amplia variedad de datos de imágenes: imágenes animads, vídeos, datos volumétricos, formatos científicos, etc. \n",
    "\n",
    "## "
   ]
  },
  {
   "cell_type": "markdown",
   "id": "6ecd65de",
   "metadata": {},
   "source": [
    "# Explicación del codigo\n",
    "- Este código utiliza la biblioteca PyCapture2 de Point Grey Research (ahora adquirida por FLIR) para interactuar con una cámara industrial y realizar capturas de imágenes.\n",
    "- Primero, se importa la biblioteca PyCapture2. Luego, se crea una instancia de la clase Camera(), que representa la cámara industrial. Después, se crea una instancia de la clase BusManager(), que es responsable de detectar y enumerar todas las cámaras FireWire y USB conectadas al sistema. A continuación, se conecta la cámara a través del método connect() llamando al primer dispositivo enumerado por el BusManager().\n",
    "- Se establece una configuración para la cámara mediante el método setConfiguration(), que establece un tiempo límite de espera para la captura de imágenes (grabTimeout) en 5000 milisegundos (5 segundos). Finalmente, se inicia la captura de imágenes llamando al método startCapture(), lo que significa que la cámara comenzará a enviar imágenes al software de la aplicación que utiliza este código."
   ]
  },
  {
   "cell_type": "code",
   "execution_count": null,
   "id": "68d46d67",
   "metadata": {},
   "outputs": [],
   "source": [
    "import time\n",
    "import os\n",
    "import PyCapture2 # // No tengo este paquete\n",
    "import visa ## // No tengo este paquete porque se usa para el experimento\n",
    "from spinapi import *\n",
    "\n",
    "######################################\n",
    "#####  CAMERA\n",
    "######################################\n",
    "\n",
    "c = PyCapture2.Camera()\n",
    "bus = PyCapture2.BusManager()\n",
    "c.connect(bus.getCameraFromIndex(0))\n",
    "c.setConfiguration(grabTimeout = 5000)\n",
    "c.startCapture()"
   ]
  },
  {
   "cell_type": "markdown",
   "id": "0cd7c49a",
   "metadata": {},
   "source": [
    "# Explicación del codigo\n",
    "- Primero, el código importa el módulo \"visa\" con la sentencia \"import visa\". El módulo \"visa\" es una biblioteca de Python que proporciona una interfaz para comunicarse con instrumentos y dispositivos que utilizan el estándar de comunicación VISA (Virtual Instrument Software Architecture).\n",
    "- Luego, el código crea un objeto ResourceManager utilizando la línea \"rm = visa.ResourceManager()\". El objeto ResourceManager proporciona una forma de encontrar y conectarse a los recursos VISA disponibles. Es importante tener en cuenta que para poder usar el módulo \"visa\", se necesita instalar previamente un controlador VISA en el sistema.\n",
    "- A continuación, el código abre un recurso GPIB específico utilizando la línea \"inst = rm.open_resource('GPIB0::27::INSTR')\". En este caso, el dispositivo que se va a conectar está en el bus GPIB en la dirección 27. La cadena de caracteres 'GPIB0::27::INSTR' es una dirección estándar utilizada para los dispositivos que se comunican a través del bus GPIB.\n",
    "- En resumen, este código utiliza el módulo \"visa\" para conectarse y controlar un dispositivo que se comunica a través del bus GPIB. La biblioteca \"visa\" proporciona una interfaz común para comunicarse con diferentes tipos de dispositivos de instrumentación, lo que permite a los programadores escribir un código genérico que funciona con múltiples dispositivos, en lugar de tener que escribir un código específico para cada dispositivo."
   ]
  },
  {
   "cell_type": "code",
   "execution_count": null,
   "id": "aacb0e18",
   "metadata": {},
   "outputs": [],
   "source": [
    "########################################\n",
    "##########   SG384 #############\n",
    "########################################\n",
    "\n",
    "rm = visa.ResourceManager()\n",
    "#rm.list_resources()\n",
    "inst = rm.open_resource('GPIB0::27::INSTR')\n",
    "\n",
    "\n",
    "#########################################\n",
    "#########   Spincore\n",
    "#########################################\n",
    "\n",
    "pb_set_debug(1)\n",
    "pb_select_board(0)\n",
    "\n",
    "if pb_init() != 0:\n",
    "\tprint(\"Error initializing board: %s\" % pb_get_error())\n",
    "\traw_input(\"Please press a key to continue.\")\n",
    "\texit(-1)\n",
    "\n",
    "# Configure the core clock\n",
    "pb_core_clock(300.0)\n",
    "########################################\n",
    "\n",
    "\n",
    "\"\"\"\n",
    "My own range generator using yield\n",
    "\"\"\"\n",
    "def my_range(start, end, step):\n",
    "    while start <= end:\n",
    "        yield start\n",
    "        start += step\n",
    "\n",
    "def my_range2(start, end, step):\n",
    "    while start >= end:\n",
    "        yield start\n",
    "        start += step \n",
    "        \n",
    "os.chdir('../Toma_de_datos1/ODMR10DBM') \n",
    "inst.write('AMPR 10.0')\n",
    "\n",
    "#################################################################\n",
    "\n",
    "for i in range(1,32,1):    \n",
    "    for n in my_range(2870-270,2870+270,1): #2750,3000\n",
    "        inst.write('FREQ '+str(n)+' MHz')\n",
    "        # time.sleep(0.05)\n",
    "        pb_start_programming(PULSE_PROGRAM)\n",
    "        pb_stop_programming()\n",
    "        pb_start()\n",
    "        image= c.retrieveBuffer()\n",
    "        image.save(str(i)+'_'+'image_'+str(n)+'.png', PyCapture2.IMAGE_FILE_FORMAT.PNG)\n",
    "        time.sleep(0.1)"
   ]
  },
  {
   "cell_type": "markdown",
   "id": "65a4248f",
   "metadata": {},
   "source": [
    "# Explicación del codigo\n",
    "- \"imread\" es una función que se utiliza para leer imágenes de diferentes formatos, como JPEG, PNG, BMP, TIFF, entre otros, y cargarlas en un objeto numpy array. Esta extrayendo una imagen cualquier para conocer dimensiones \n",
    "- La función \"imshow\" se utiliza para mostrar una imagen en una figura de Matplotlib. El primer argumento, \"img\", es la matriz que contiene los datos de la imagen. El segundo argumento, \"clim=(0, np.max(img))\", es un parámetro opcional que establece los límites de contraste de la imagen. En este caso, se establece el rango de valores de píxeles que se mostrarán en la imagen, que va desde 0 (valor mínimo) hasta el valor máximo de píxeles en la imagen (np.max(img)).\n",
    "- La función \"show\" se utiliza para mostrar la figura que contiene la imagen. Por lo tanto, la combinación de \"imshow\" y \"show\" en esta línea de código muestra la imagen contenida en la matriz \"img\" en una figura de Matplotlib con los límites de contraste especificados."
   ]
  },
  {
   "cell_type": "code",
   "execution_count": 1,
   "id": "fe03b19d",
   "metadata": {},
   "outputs": [
    {
     "name": "stderr",
     "output_type": "stream",
     "text": [
      "C:\\Users\\JAAL_\\AppData\\Local\\Temp\\ipykernel_12984\\3932981292.py:10: DeprecationWarning: Starting with ImageIO v3 the behavior of this function will switch to that of iio.v3.imread. To keep the current behavior (and make this warning disappear) use `import imageio.v2 as imageio` or call `imageio.v2.imread` directly.\n",
      "  img = imread('../Toma_de_datos1/Novo/1_image_3110.png')\n"
     ]
    },
    {
     "ename": "FileNotFoundError",
     "evalue": "No such file: 'C:\\Users\\JAAL_\\Documents\\Sincronizar_Drive\\Tesis\\Redacción-tesis\\Imagenes-de-la-tesis-en-orden\\Figuras-oficiales-enumerados-por-hacer\\Capitulo-4\\Toma_de_datos1\\Novo\\1_image_3110.png'",
     "output_type": "error",
     "traceback": [
      "\u001b[1;31m---------------------------------------------------------------------------\u001b[0m",
      "\u001b[1;31mFileNotFoundError\u001b[0m                         Traceback (most recent call last)",
      "Cell \u001b[1;32mIn[1], line 10\u001b[0m\n\u001b[0;32m      7\u001b[0m \u001b[38;5;28;01mfrom\u001b[39;00m \u001b[38;5;21;01mimageio\u001b[39;00m \u001b[38;5;28;01mimport\u001b[39;00m imread\n\u001b[0;32m      9\u001b[0m \u001b[38;5;66;03m# Resize the image\u001b[39;00m\n\u001b[1;32m---> 10\u001b[0m img \u001b[38;5;241m=\u001b[39m \u001b[43mimread\u001b[49m\u001b[43m(\u001b[49m\u001b[38;5;124;43m'\u001b[39;49m\u001b[38;5;124;43m../Toma_de_datos1/Novo/1_image_3110.png\u001b[39;49m\u001b[38;5;124;43m'\u001b[39;49m\u001b[43m)\u001b[49m\n",
      "File \u001b[1;32m~\\anaconda3\\lib\\site-packages\\imageio\\__init__.py:97\u001b[0m, in \u001b[0;36mimread\u001b[1;34m(uri, format, **kwargs)\u001b[0m\n\u001b[0;32m     68\u001b[0m \u001b[38;5;250m\u001b[39m\u001b[38;5;124;03m\"\"\"imread(uri, format=None, **kwargs)\u001b[39;00m\n\u001b[0;32m     69\u001b[0m \n\u001b[0;32m     70\u001b[0m \u001b[38;5;124;03mReads an image from the specified file. Returns a numpy array, which\u001b[39;00m\n\u001b[1;32m   (...)\u001b[0m\n\u001b[0;32m     86\u001b[0m \u001b[38;5;124;03m    to see what arguments are available for a particular format.\u001b[39;00m\n\u001b[0;32m     87\u001b[0m \u001b[38;5;124;03m\"\"\"\u001b[39;00m\n\u001b[0;32m     89\u001b[0m warnings\u001b[38;5;241m.\u001b[39mwarn(\n\u001b[0;32m     90\u001b[0m     \u001b[38;5;124m\"\u001b[39m\u001b[38;5;124mStarting with ImageIO v3 the behavior of this function will switch to that of\u001b[39m\u001b[38;5;124m\"\u001b[39m\n\u001b[0;32m     91\u001b[0m     \u001b[38;5;124m\"\u001b[39m\u001b[38;5;124m iio.v3.imread. To keep the current behavior (and make this warning disappear)\u001b[39m\u001b[38;5;124m\"\u001b[39m\n\u001b[1;32m   (...)\u001b[0m\n\u001b[0;32m     94\u001b[0m     stacklevel\u001b[38;5;241m=\u001b[39m\u001b[38;5;241m2\u001b[39m,\n\u001b[0;32m     95\u001b[0m )\n\u001b[1;32m---> 97\u001b[0m \u001b[38;5;28;01mreturn\u001b[39;00m imread_v2(uri, \u001b[38;5;28mformat\u001b[39m\u001b[38;5;241m=\u001b[39m\u001b[38;5;28mformat\u001b[39m, \u001b[38;5;241m*\u001b[39m\u001b[38;5;241m*\u001b[39mkwargs)\n",
      "File \u001b[1;32m~\\anaconda3\\lib\\site-packages\\imageio\\v2.py:348\u001b[0m, in \u001b[0;36mimread\u001b[1;34m(uri, format, **kwargs)\u001b[0m\n\u001b[0;32m    345\u001b[0m imopen_args \u001b[38;5;241m=\u001b[39m decypher_format_arg(\u001b[38;5;28mformat\u001b[39m)\n\u001b[0;32m    346\u001b[0m imopen_args[\u001b[38;5;124m\"\u001b[39m\u001b[38;5;124mlegacy_mode\u001b[39m\u001b[38;5;124m\"\u001b[39m] \u001b[38;5;241m=\u001b[39m \u001b[38;5;28;01mTrue\u001b[39;00m\n\u001b[1;32m--> 348\u001b[0m \u001b[38;5;28;01mwith\u001b[39;00m imopen(uri, \u001b[38;5;124m\"\u001b[39m\u001b[38;5;124mri\u001b[39m\u001b[38;5;124m\"\u001b[39m, \u001b[38;5;241m*\u001b[39m\u001b[38;5;241m*\u001b[39mimopen_args) \u001b[38;5;28;01mas\u001b[39;00m file:\n\u001b[0;32m    349\u001b[0m     result \u001b[38;5;241m=\u001b[39m file\u001b[38;5;241m.\u001b[39mread(index\u001b[38;5;241m=\u001b[39m\u001b[38;5;241m0\u001b[39m, \u001b[38;5;241m*\u001b[39m\u001b[38;5;241m*\u001b[39mkwargs)\n\u001b[0;32m    351\u001b[0m \u001b[38;5;28;01mreturn\u001b[39;00m result\n",
      "File \u001b[1;32m~\\anaconda3\\lib\\site-packages\\imageio\\core\\imopen.py:113\u001b[0m, in \u001b[0;36mimopen\u001b[1;34m(uri, io_mode, plugin, extension, format_hint, legacy_mode, **kwargs)\u001b[0m\n\u001b[0;32m    111\u001b[0m     request\u001b[38;5;241m.\u001b[39mformat_hint \u001b[38;5;241m=\u001b[39m format_hint\n\u001b[0;32m    112\u001b[0m \u001b[38;5;28;01melse\u001b[39;00m:\n\u001b[1;32m--> 113\u001b[0m     request \u001b[38;5;241m=\u001b[39m \u001b[43mRequest\u001b[49m\u001b[43m(\u001b[49m\u001b[43muri\u001b[49m\u001b[43m,\u001b[49m\u001b[43m \u001b[49m\u001b[43mio_mode\u001b[49m\u001b[43m,\u001b[49m\u001b[43m \u001b[49m\u001b[43mformat_hint\u001b[49m\u001b[38;5;241;43m=\u001b[39;49m\u001b[43mformat_hint\u001b[49m\u001b[43m,\u001b[49m\u001b[43m \u001b[49m\u001b[43mextension\u001b[49m\u001b[38;5;241;43m=\u001b[39;49m\u001b[43mextension\u001b[49m\u001b[43m)\u001b[49m\n\u001b[0;32m    115\u001b[0m source \u001b[38;5;241m=\u001b[39m \u001b[38;5;124m\"\u001b[39m\u001b[38;5;124m<bytes>\u001b[39m\u001b[38;5;124m\"\u001b[39m \u001b[38;5;28;01mif\u001b[39;00m \u001b[38;5;28misinstance\u001b[39m(uri, \u001b[38;5;28mbytes\u001b[39m) \u001b[38;5;28;01melse\u001b[39;00m uri\n\u001b[0;32m    117\u001b[0m \u001b[38;5;66;03m# fast-path based on plugin\u001b[39;00m\n\u001b[0;32m    118\u001b[0m \u001b[38;5;66;03m# (except in legacy mode)\u001b[39;00m\n",
      "File \u001b[1;32m~\\anaconda3\\lib\\site-packages\\imageio\\core\\request.py:247\u001b[0m, in \u001b[0;36mRequest.__init__\u001b[1;34m(self, uri, mode, extension, format_hint, **kwargs)\u001b[0m\n\u001b[0;32m    244\u001b[0m     \u001b[38;5;28;01mraise\u001b[39;00m \u001b[38;5;167;01mValueError\u001b[39;00m(\u001b[38;5;124mf\u001b[39m\u001b[38;5;124m\"\u001b[39m\u001b[38;5;124mInvalid Request.Mode: \u001b[39m\u001b[38;5;132;01m{\u001b[39;00mmode\u001b[38;5;132;01m}\u001b[39;00m\u001b[38;5;124m\"\u001b[39m)\n\u001b[0;32m    246\u001b[0m \u001b[38;5;66;03m# Parse what was given\u001b[39;00m\n\u001b[1;32m--> 247\u001b[0m \u001b[38;5;28;43mself\u001b[39;49m\u001b[38;5;241;43m.\u001b[39;49m\u001b[43m_parse_uri\u001b[49m\u001b[43m(\u001b[49m\u001b[43muri\u001b[49m\u001b[43m)\u001b[49m\n\u001b[0;32m    249\u001b[0m \u001b[38;5;66;03m# Set extension\u001b[39;00m\n\u001b[0;32m    250\u001b[0m \u001b[38;5;28;01mif\u001b[39;00m extension \u001b[38;5;129;01mis\u001b[39;00m \u001b[38;5;129;01mnot\u001b[39;00m \u001b[38;5;28;01mNone\u001b[39;00m:\n",
      "File \u001b[1;32m~\\anaconda3\\lib\\site-packages\\imageio\\core\\request.py:407\u001b[0m, in \u001b[0;36mRequest._parse_uri\u001b[1;34m(self, uri)\u001b[0m\n\u001b[0;32m    404\u001b[0m \u001b[38;5;28;01mif\u001b[39;00m is_read_request:\n\u001b[0;32m    405\u001b[0m     \u001b[38;5;66;03m# Reading: check that the file exists (but is allowed a dir)\u001b[39;00m\n\u001b[0;32m    406\u001b[0m     \u001b[38;5;28;01mif\u001b[39;00m \u001b[38;5;129;01mnot\u001b[39;00m os\u001b[38;5;241m.\u001b[39mpath\u001b[38;5;241m.\u001b[39mexists(fn):\n\u001b[1;32m--> 407\u001b[0m         \u001b[38;5;28;01mraise\u001b[39;00m \u001b[38;5;167;01mFileNotFoundError\u001b[39;00m(\u001b[38;5;124m\"\u001b[39m\u001b[38;5;124mNo such file: \u001b[39m\u001b[38;5;124m'\u001b[39m\u001b[38;5;132;01m%s\u001b[39;00m\u001b[38;5;124m'\u001b[39m\u001b[38;5;124m\"\u001b[39m \u001b[38;5;241m%\u001b[39m fn)\n\u001b[0;32m    408\u001b[0m \u001b[38;5;28;01melse\u001b[39;00m:\n\u001b[0;32m    409\u001b[0m     \u001b[38;5;66;03m# Writing: check that the directory to write to does exist\u001b[39;00m\n\u001b[0;32m    410\u001b[0m     dn \u001b[38;5;241m=\u001b[39m os\u001b[38;5;241m.\u001b[39mpath\u001b[38;5;241m.\u001b[39mdirname(fn)\n",
      "\u001b[1;31mFileNotFoundError\u001b[0m: No such file: 'C:\\Users\\JAAL_\\Documents\\Sincronizar_Drive\\Tesis\\Redacción-tesis\\Imagenes-de-la-tesis-en-orden\\Figuras-oficiales-enumerados-por-hacer\\Capitulo-4\\Toma_de_datos1\\Novo\\1_image_3110.png'"
     ]
    }
   ],
   "source": [
    "import os\n",
    "import numpy as np\n",
    "import matplotlib.pyplot as plt\n",
    "from PIL import Image\n",
    "#import Image  # PIL - Python Image Library (instale via Sinaptyc)\n",
    "\n",
    "from imageio import imread\n",
    "\n",
    "# Resize the image\n",
    "img = imread('../Toma_de_datos1/Novo/1_image_3110.png')\n",
    "\n",
    "\n",
    "'''\n",
    "Esta es la etapa de corte\n",
    "'''\n",
    "# como sabe que el centro es 85 y 75 ?\n",
    "x=85;y=75; #centro\n",
    "y1=y-30\n",
    "y2=y+30\n",
    "x1=x-20\n",
    "x2=x+20\n",
    "ROI = [y1,y2,x1,x2]#[105,355,235,485] #box 100x100 330 280\n",
    "\n",
    "\n",
    "img_cut = img[ROI[0]:ROI[1],ROI[2]:ROI[3]]\n",
    "\n",
    "plt.imshow(img, clim=(0, np.max(img))), plt.show()\n",
    "plt.imshow(img_cut,clim=(0, np.max(img))), plt.show()\n",
    "\n",
    "#for i in range(1,2,1):\n",
    "print(f\"Carpeta actual : {os.getcwd()} \")\n",
    "diretorio = \"../Toma_de_datos1/Novo/\"\n",
    "arquivos = os.listdir(diretorio)\n",
    "\n",
    "########## Se ordena los archivos por el nombre ###################\n",
    "arquivos.sort() \n",
    "n=0\n",
    "# Corta las imagenes y salva\n",
    "for arquivo in arquivos:\n",
    "\tfullpath = os.path.join(diretorio,arquivo)\n",
    "\tif os.path.isfile(fullpath):\n",
    "\t\tn = n + 1\n",
    "\t\timg = Image.open(fullpath) \n",
    "\t\tprint(\"Lendo arquivo\", n, \"de\", len(arquivos))\n",
    "\t\tim =  img.crop([x1,y1,x2,y2])#x= 360 {235,485} y= 230 {105,355} BOX: 250x250\n",
    "\t\tim.save(os.path.join(\"../Toma_de_datos1/CorteTOTAL\",arquivo))"
   ]
  },
  {
   "cell_type": "code",
   "execution_count": null,
   "id": "cd0ee67b",
   "metadata": {},
   "outputs": [],
   "source": []
  },
  {
   "cell_type": "code",
   "execution_count": null,
   "id": "05660045",
   "metadata": {},
   "outputs": [],
   "source": []
  },
  {
   "cell_type": "code",
   "execution_count": null,
   "id": "8fcd6b41",
   "metadata": {},
   "outputs": [],
   "source": []
  }
 ],
 "metadata": {
  "hide_input": false,
  "kernelspec": {
   "display_name": "Python 3 (ipykernel)",
   "language": "python",
   "name": "python3"
  },
  "language_info": {
   "codemirror_mode": {
    "name": "ipython",
    "version": 3
   },
   "file_extension": ".py",
   "mimetype": "text/x-python",
   "name": "python",
   "nbconvert_exporter": "python",
   "pygments_lexer": "ipython3",
   "version": "3.10.14"
  },
  "toc": {
   "base_numbering": 1,
   "nav_menu": {},
   "number_sections": true,
   "sideBar": true,
   "skip_h1_title": false,
   "title_cell": "Table of Contents",
   "title_sidebar": "Contents",
   "toc_cell": false,
   "toc_position": {},
   "toc_section_display": true,
   "toc_window_display": false
  }
 },
 "nbformat": 4,
 "nbformat_minor": 5
}
